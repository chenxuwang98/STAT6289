{
 "cells": [
  {
   "cell_type": "markdown",
   "metadata": {
    "id": "hYVJ3vE_5L_q"
   },
   "source": [
    "#  Homework 4"
   ]
  },
  {
   "cell_type": "code",
   "execution_count": 1,
   "metadata": {
    "colab": {
     "base_uri": "https://localhost:8080/"
    },
    "id": "-jGi8U8L5E0t",
    "outputId": "24bb04ae-eaaa-42e1-bf58-7115f9ae73c0"
   },
   "outputs": [
    {
     "name": "stdout",
     "output_type": "stream",
     "text": [
      "Installing Magnitude.... (please wait, can take a while)\n",
      "  % Total    % Received % Xferd  Average Speed   Time    Time     Time  Current\n",
      "                                 Dload  Upload   Total   Spent    Left  Speed\n",
      "100   137  100   137    0     0    744      0 --:--:-- --:--:-- --:--:--   744\n",
      "Done installing Magnitude.\n"
     ]
    }
   ],
   "source": [
    "# Install Magnitude on Google Colab\n",
    "! echo \"Installing Magnitude.... (please wait, can take a while)\"\n",
    "! (curl https://raw.githubusercontent.com/plasticityai/magnitude/master/install-colab.sh | /bin/bash 1>/dev/null 2>/dev/null)\n",
    "! echo \"Done installing Magnitude.\""
   ]
  },
  {
   "cell_type": "code",
   "execution_count": 2,
   "metadata": {
    "id": "vIpqteWn5U_a"
   },
   "outputs": [],
   "source": [
    "\n",
    "from pymagnitude import *\n",
    "vectors = Magnitude(\"/content/drive/My Drive/GoogleNews-vectors-negative300.magnitude\")"
   ]
  },
  {
   "cell_type": "code",
   "execution_count": 3,
   "metadata": {
    "colab": {
     "base_uri": "https://localhost:8080/"
    },
    "id": "AZpNrrKtQ5di",
    "outputId": "c92f264a-77a1-49fb-ca4b-f741bee3bc74"
   },
   "outputs": [
    {
     "data": {
      "text/plain": [
       "0.69145405"
      ]
     },
     "execution_count": 3,
     "metadata": {},
     "output_type": "execute_result"
    }
   ],
   "source": [
    "vectors.distance(\"cat\",\"dog\")"
   ]
  },
  {
   "cell_type": "markdown",
   "metadata": {
    "id": "i7xo47W0Rmdc"
   },
   "source": [
    "**1. What is the dimensionality of these word embeddings? Provide an integer answer.**"
   ]
  },
  {
   "cell_type": "code",
   "execution_count": 4,
   "metadata": {
    "colab": {
     "base_uri": "https://localhost:8080/"
    },
    "id": "K54LuoC_Ruvo",
    "outputId": "92e8006e-8a2a-495c-fa72-8d16a55dc2af"
   },
   "outputs": [
    {
     "data": {
      "text/plain": [
       "300"
      ]
     },
     "execution_count": 4,
     "metadata": {},
     "output_type": "execute_result"
    }
   ],
   "source": [
    "vectors.dim"
   ]
  },
  {
   "cell_type": "markdown",
   "metadata": {
    "id": "S1fzdw6GVQGW"
   },
   "source": [
    "The dimension of these word embeddings is 300."
   ]
  },
  {
   "cell_type": "markdown",
   "metadata": {
    "id": "RDLTB5dXR1cR"
   },
   "source": [
    "**2. What are the top-5 most similar words to picnic (not including picnic itself)?**"
   ]
  },
  {
   "cell_type": "code",
   "execution_count": 5,
   "metadata": {
    "colab": {
     "base_uri": "https://localhost:8080/"
    },
    "id": "s7SX_y8zRzMz",
    "outputId": "3a92aa6f-c7a5-41a0-f61e-379412488445"
   },
   "outputs": [
    {
     "data": {
      "text/plain": [
       "[('picnics', 0.7400875),\n",
       " ('picnic_lunch', 0.721374),\n",
       " ('Picnic', 0.700534),\n",
       " ('potluck_picnic', 0.6683274),\n",
       " ('picnic_supper', 0.65189123)]"
      ]
     },
     "execution_count": 5,
     "metadata": {},
     "output_type": "execute_result"
    }
   ],
   "source": [
    "vectors.most_similar(\"picnic\", topn = 5) "
   ]
  },
  {
   "cell_type": "markdown",
   "metadata": {
    "id": "aRGxgniwVkp9"
   },
   "source": [
    "The top-5 most similar words to picnic are picnics, picnic_lunch, Picnic, Potluck_picnic, picnic_super."
   ]
  },
  {
   "cell_type": "markdown",
   "metadata": {
    "id": "jvdMMuFcSPco"
   },
   "source": [
    "**3. According to the word embeddings, which of these words is not like the others? ['tissue', 'papyrus', 'manila', 'newsprint', 'parchment', 'gazette']**"
   ]
  },
  {
   "cell_type": "code",
   "execution_count": 6,
   "metadata": {
    "colab": {
     "base_uri": "https://localhost:8080/",
     "height": 35
    },
    "id": "u3cnzIe_STPC",
    "outputId": "c058c44c-e467-4d46-f88f-e5e6f76cdc97"
   },
   "outputs": [
    {
     "data": {
      "application/vnd.google.colaboratory.intrinsic+json": {
       "type": "string"
      },
      "text/plain": [
       "'tissue'"
      ]
     },
     "execution_count": 6,
     "metadata": {},
     "output_type": "execute_result"
    }
   ],
   "source": [
    "vectors.doesnt_match( ['tissue', 'papyrus','manila', 'newsprint', 'parchment', 'gazette'])"
   ]
  },
  {
   "cell_type": "markdown",
   "metadata": {
    "id": "aG035zi7Vo39"
   },
   "source": [
    "The \"tissue\" is not like the others.\n",
    "\n"
   ]
  },
  {
   "cell_type": "markdown",
   "metadata": {
    "id": "NCnS7-cNSeOe"
   },
   "source": [
    "**4. Solve the following analogy: leg is to jump as X is to throw.**"
   ]
  },
  {
   "cell_type": "code",
   "execution_count": 7,
   "metadata": {
    "colab": {
     "base_uri": "https://localhost:8080/"
    },
    "id": "aE4B8hvTSmcg",
    "outputId": "a045e311-2ac9-4b00-a729-14c47a1fd698"
   },
   "outputs": [
    {
     "data": {
      "text/plain": [
       "[('forearm', 0.48294652),\n",
       " ('shin', 0.47376165),\n",
       " ('elbow', 0.4679689),\n",
       " ('metacarpal_bone', 0.46781474),\n",
       " ('metacarpal_bones', 0.46605822),\n",
       " ('ankle', 0.46434426),\n",
       " ('shoulder', 0.46183354),\n",
       " ('thigh', 0.45393682),\n",
       " ('knee', 0.4455707),\n",
       " ('ulna_bone', 0.4423491)]"
      ]
     },
     "execution_count": 7,
     "metadata": {},
     "output_type": "execute_result"
    }
   ],
   "source": [
    "vectors.most_similar(positive = [\"leg\",\"throw\"], negative = [\"jump\"])"
   ]
  },
  {
   "cell_type": "code",
   "execution_count": 13,
   "metadata": {
    "colab": {
     "base_uri": "https://localhost:8080/",
     "height": 340
    },
    "id": "7ksHjTmrWwKj",
    "outputId": "ff4f511a-72c7-48aa-dc97-d851778dffb2"
   },
   "outputs": [
    {
     "data": {
      "image/png": "[encoded data removed]",
      "text/plain": [
       "<Figure size 432x288 with 1 Axes>"
      ]
     },
     "metadata": {
      "needs_background": "light"
     },
     "output_type": "display_data"
    }
   ],
   "source": [
    "from matplotlib import pyplot as plt\n",
    "vector1 = vectors.most_similar(positive = [\"leg\",\"throw\"], negative = [\"jump\"])\n",
    "X_list = []\n",
    "Y_list = []\n",
    "for i in range(10):\n",
    "    X_list.append(vector1[i][0])\n",
    "    Y_list.append(vector1[i][1])\n",
    "\n",
    "plt.scatter(X_list,Y_list,color=\"red\")\n",
    "plt.xticks(rotation=60)\n",
    "plt.show()       "
   ]
  },
  {
   "cell_type": "markdown",
   "metadata": {
    "id": "05AhB-CSZJJh"
   },
   "source": [
    "The closest word is 'forearm'."
   ]
  }
 ],
 "metadata": {
  "colab": {
   "collapsed_sections": [],
   "name": "Untitled1.ipynb",
   "provenance": []
  },
  "kernelspec": {
   "display_name": "Python 3",
   "language": "python",
   "name": "python3"
  },
  "language_info": {
   "codemirror_mode": {
    "name": "ipython",
    "version": 3
   },
   "file_extension": ".py",
   "mimetype": "text/x-python",
   "name": "python",
   "nbconvert_exporter": "python",
   "pygments_lexer": "ipython3",
   "version": "3.8.5"
  }
 },
 "nbformat": 4,
 "nbformat_minor": 1
}
