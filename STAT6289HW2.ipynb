{
 "cells": [
  {
   "cell_type": "code",
   "execution_count": 1,
   "metadata": {},
   "outputs": [],
   "source": [
    "import torch\n",
    "import torch.nn as nn\n",
    "import numpy as np\n",
    "import torchvision\n",
    "import matplotlib.pyplot as plt\n",
    "import torchvision.transforms as transforms\n",
    "import os\n",
    "import numpy as np\n",
    "import torch.utils.data as Data\n",
    "from torch.autograd import Variable\n",
    "import torch.nn.functional as F"
   ]
  },
  {
   "cell_type": "code",
   "execution_count": 2,
   "metadata": {},
   "outputs": [
    {
     "name": "stdout",
     "output_type": "stream",
     "text": [
      "Files already downloaded and verified\n",
      "Files already downloaded and verified\n"
     ]
    }
   ],
   "source": [
    "transform = transforms.Compose(\n",
    "    [transforms.ToTensor(),\n",
    "     transforms.Normalize((0.5, 0.5, 0.5), (0.5, 0.5, 0.5))])\n",
    "\n",
    "batch_size=4\n",
    "\n",
    "trainset = torchvision.datasets.CIFAR10(root='./data', train=True,\n",
    "                                        download=True, transform=transform)\n",
    "trainloader = torch.utils.data.DataLoader(trainset, batch_size=batch_size,\n",
    "                                          shuffle=True, num_workers=2)\n",
    "\n",
    "testset = torchvision.datasets.CIFAR10(root='./data', train=False,\n",
    "                                       download=True, transform=transform)\n",
    "testloader = torch.utils.data.DataLoader(testset, batch_size=batch_size,\n",
    "                                         shuffle=False, num_workers=2)"
   ]
  },
  {
   "cell_type": "code",
   "execution_count": 3,
   "metadata": {},
   "outputs": [
    {
     "data": {
      "text/plain": [
       "torch.Size([3, 32, 32, 50000])"
      ]
     },
     "execution_count": 3,
     "metadata": {},
     "output_type": "execute_result"
    }
   ],
   "source": [
    "imgs = torch.stack([img_t for img_t ,_ in trainset],dim=3)\n",
    "imgs.shape"
   ]
  },
  {
   "cell_type": "code",
   "execution_count": 4,
   "metadata": {},
   "outputs": [],
   "source": [
    "import torch.nn as nn\n",
    "import torch.nn.functional as F\n",
    "\n",
    "\n",
    "class Net(nn.Module):\n",
    "    def __init__(self):\n",
    "        super().__init__()\n",
    "        self.conv1 = nn.Conv2d(3, 6, 5)\n",
    "        self.pool = nn.MaxPool2d(2, 2)\n",
    "        self.conv2 = nn.Conv2d(6, 16, 5)\n",
    "        self.fc1 = nn.Linear(16 * 5 * 5, 120)\n",
    "        self.fc2 = nn.Linear(120, 84)\n",
    "        self.fc3 = nn.Linear(84, 10)\n",
    "\n",
    "    def forward(self, x):\n",
    "        x = self.pool(F.relu(self.conv1(x)))\n",
    "        x = self.pool(F.relu(self.conv2(x)))\n",
    "        x = torch.flatten(x, 1) # flatten all dimensions except batch\n",
    "        x = F.relu(self.fc1(x))\n",
    "        x = F.relu(self.fc2(x))\n",
    "        x = self.fc3(x)\n",
    "        return x\n",
    "\n",
    "\n",
    "net = Net()"
   ]
  },
  {
   "cell_type": "code",
   "execution_count": 5,
   "metadata": {},
   "outputs": [],
   "source": [
    "import torch.optim as optim\n",
    "\n",
    "criterion = nn.CrossEntropyLoss()\n",
    "optimizer = optim.SGD(net.parameters(), lr=0.001, momentum=0.9)"
   ]
  },
  {
   "cell_type": "code",
   "execution_count": 6,
   "metadata": {},
   "outputs": [
    {
     "name": "stdout",
     "output_type": "stream",
     "text": [
      "[1,  2000] loss: 2.237\n",
      "[1,  4000] loss: 1.875\n",
      "[1,  6000] loss: 1.717\n",
      "[1,  8000] loss: 1.610\n",
      "[1, 10000] loss: 1.546\n",
      "[1, 12000] loss: 1.486\n",
      "[2,  2000] loss: 1.426\n",
      "[2,  4000] loss: 1.371\n",
      "[2,  6000] loss: 1.370\n",
      "[2,  8000] loss: 1.352\n",
      "[2, 10000] loss: 1.338\n",
      "[2, 12000] loss: 1.305\n",
      "[3,  2000] loss: 1.223\n",
      "[3,  4000] loss: 1.241\n",
      "[3,  6000] loss: 1.219\n",
      "[3,  8000] loss: 1.219\n",
      "[3, 10000] loss: 1.219\n",
      "[3, 12000] loss: 1.219\n",
      "[4,  2000] loss: 1.131\n",
      "[4,  4000] loss: 1.153\n",
      "[4,  6000] loss: 1.139\n",
      "[4,  8000] loss: 1.132\n",
      "[4, 10000] loss: 1.124\n",
      "[4, 12000] loss: 1.129\n",
      "[5,  2000] loss: 1.044\n",
      "[5,  4000] loss: 1.071\n",
      "[5,  6000] loss: 1.057\n",
      "[5,  8000] loss: 1.054\n",
      "[5, 10000] loss: 1.069\n",
      "[5, 12000] loss: 1.072\n",
      "[6,  2000] loss: 0.991\n",
      "[6,  4000] loss: 1.006\n",
      "[6,  6000] loss: 1.031\n",
      "[6,  8000] loss: 1.000\n",
      "[6, 10000] loss: 1.031\n",
      "[6, 12000] loss: 1.001\n",
      "[7,  2000] loss: 0.938\n",
      "[7,  4000] loss: 0.942\n",
      "[7,  6000] loss: 0.975\n",
      "[7,  8000] loss: 0.931\n",
      "[7, 10000] loss: 0.980\n",
      "[7, 12000] loss: 0.994\n",
      "[8,  2000] loss: 0.881\n",
      "[8,  4000] loss: 0.898\n",
      "[8,  6000] loss: 0.947\n",
      "[8,  8000] loss: 0.925\n",
      "[8, 10000] loss: 0.938\n",
      "[8, 12000] loss: 0.943\n",
      "[9,  2000] loss: 0.832\n",
      "[9,  4000] loss: 0.895\n",
      "[9,  6000] loss: 0.900\n",
      "[9,  8000] loss: 0.904\n",
      "[9, 10000] loss: 0.917\n",
      "[9, 12000] loss: 0.890\n",
      "[10,  2000] loss: 0.826\n",
      "[10,  4000] loss: 0.830\n",
      "[10,  6000] loss: 0.851\n",
      "[10,  8000] loss: 0.867\n",
      "[10, 10000] loss: 0.866\n",
      "[10, 12000] loss: 0.908\n",
      "Finished Training\n"
     ]
    }
   ],
   "source": [
    "for epoch in range(10):  # loop over the dataset multiple times\n",
    "\n",
    "    running_loss = 0.0\n",
    "    for i, data in enumerate(trainloader, 0):\n",
    "        # get the inputs; data is a list of [inputs, labels]\n",
    "        inputs, labels = data\n",
    "\n",
    "        # zero the parameter gradients\n",
    "        optimizer.zero_grad()\n",
    "\n",
    "        # forward + backward + optimize\n",
    "        outputs = net(inputs)\n",
    "        loss = criterion(outputs, labels)\n",
    "        loss.backward()\n",
    "        optimizer.step()\n",
    "\n",
    "        # print statistics\n",
    "        running_loss += loss.item()\n",
    "        if i % 2000 == 1999:    # print every 2000 mini-batches\n",
    "            print(f'[{epoch + 1}, {i + 1:5d}] loss: {running_loss / 2000:.3f}')\n",
    "            running_loss = 0.0\n",
    "\n",
    "print('Finished Training')"
   ]
  },
  {
   "cell_type": "code",
   "execution_count": 7,
   "metadata": {},
   "outputs": [],
   "source": [
    "class CNN(nn.Module):\n",
    "    def __init__(self,input_size,hidden0_size,hidden1_size,hidden2_size,hidden3_size,hidden4_size,num_classes):\n",
    "        super(CNN,self).__init__()\n",
    "        \n",
    "        self.fc1 = nn.Linear(input_size,hidden0_size)\n",
    "        self.relu1=nn.ReLU()\n",
    "            \n",
    "        self.f2 = nn.Linear(hidden0_size,hidden1_size)\n",
    "        self.relu2=nn.ReLU()\n",
    "        \n",
    "        self.f3 = nn.Linear(hidden1_size,hidden2_size)\n",
    "        self.relu3=nn.ReLU()\n",
    "        \n",
    "        self.f4 = nn.Linear(hidden2_size,hidden3_size)\n",
    "        self.relu4=nn.ReLU()\n",
    "        \n",
    "        self.f5 = nn.Linear(hidden2_size,hidden3_size)\n",
    "        self.relu5=nn.ReLU()\n",
    "        \n",
    "        self.f6 = nn.Linear(hidden3_size,hidden4_size)\n",
    "        self.relu6=nn.ReLU()\n",
    "        \n",
    "        self.f7 = nn.Linear(hidden4_size,num_classes)\n",
    "        self.relu7=nn.ReLU()\n",
    "        \n",
    "    def forward(self, x):\n",
    "        out = self.fc1(x)\n",
    "        out = self.relu1(out)\n",
    "        out = self.fc2(x)\n",
    "        out = self.relu2(out)\n",
    "        out = self.fc3(x)\n",
    "        out = self.relu3(out)\n",
    "        out = self.fc4(x)\n",
    "        out = self.relu4(out)\n",
    "        out = self.fc5(x)\n",
    "        out = self.relu5(out)\n",
    "        out = self.fc6(x)\n",
    "        out = self.relu16(out)\n",
    "        out = self.fc7(x)\n",
    "        out = self.relu7(out)\n",
    "        return out"
   ]
  },
  {
   "cell_type": "code",
   "execution_count": 10,
   "metadata": {},
   "outputs": [
    {
     "ename": "NameError",
     "evalue": "name 'x' is not defined",
     "output_type": "error",
     "traceback": [
      "\u001b[0;31m---------------------------------------------------------------------------\u001b[0m",
      "\u001b[0;31mNameError\u001b[0m                                 Traceback (most recent call last)",
      "\u001b[0;32m<ipython-input-10-332db26d0992>\u001b[0m in \u001b[0;36m<module>\u001b[0;34m\u001b[0m\n\u001b[0;32m----> 1\u001b[0;31m \u001b[0mplt\u001b[0m\u001b[0;34m.\u001b[0m\u001b[0mplot\u001b[0m\u001b[0;34m(\u001b[0m\u001b[0mx\u001b[0m\u001b[0;34m,\u001b[0m\u001b[0mout\u001b[0m\u001b[0;34m)\u001b[0m\u001b[0;34m\u001b[0m\u001b[0;34m\u001b[0m\u001b[0m\n\u001b[0m\u001b[1;32m      2\u001b[0m \u001b[0mplt\u001b[0m\u001b[0;34m.\u001b[0m\u001b[0mtitle\u001b[0m\u001b[0;34m(\u001b[0m\u001b[0;34m'validation accuracy'\u001b[0m\u001b[0;34m)\u001b[0m\u001b[0;34m\u001b[0m\u001b[0;34m\u001b[0m\u001b[0m\n\u001b[1;32m      3\u001b[0m \u001b[0mplt\u001b[0m\u001b[0;34m.\u001b[0m\u001b[0mylabel\u001b[0m\u001b[0;34m(\u001b[0m\u001b[0;34m'accuracy'\u001b[0m\u001b[0;34m)\u001b[0m\u001b[0;34m\u001b[0m\u001b[0;34m\u001b[0m\u001b[0m\n\u001b[1;32m      4\u001b[0m \u001b[0mplt\u001b[0m\u001b[0;34m.\u001b[0m\u001b[0mshow\u001b[0m\u001b[0;34m(\u001b[0m\u001b[0;34m)\u001b[0m\u001b[0;34m\u001b[0m\u001b[0;34m\u001b[0m\u001b[0m\n",
      "\u001b[0;31mNameError\u001b[0m: name 'x' is not defined"
     ]
    }
   ],
   "source": [
    "plt.plot(x,out) \n",
    "plt.title('validation accuracy')\n",
    "plt.ylabel('accuracy')\n",
    "plt.show()"
   ]
  },
  {
   "cell_type": "markdown",
   "metadata": {},
   "source": [
    "The convolutional neural network is better than the other simple dense neural networks. When the number of hidden layer increase, the performance decrease. Because the optimization is more difficult, the optimizer fails to find the best weights."
   ]
  }
 ],
 "metadata": {
  "kernelspec": {
   "display_name": "Python 3",
   "language": "python",
   "name": "python3"
  },
  "language_info": {
   "codemirror_mode": {
    "name": "ipython",
    "version": 3
   },
   "file_extension": ".py",
   "mimetype": "text/x-python",
   "name": "python",
   "nbconvert_exporter": "python",
   "pygments_lexer": "ipython3",
   "version": "3.8.5"
  }
 },
 "nbformat": 4,
 "nbformat_minor": 4
}
